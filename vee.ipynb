{
 "cells": [
  {
   "cell_type": "code",
   "execution_count": null,
   "metadata": {},
   "outputs": [],
   "source": [
    "print(\"5000 cats\")\n",
    "print(\"1000 dog\")\n",
    "\n",
    "print(\"are white\")\n",
    "\n",
    "print(\"and very cute\")\n",
    "\n",
    "\n",
    "print(\"makmak\")\n",
    "\n",
    "print(\"edited by Frank\")\n"
   ]
  }
 ],
 "metadata": {
  "language_info": {
   "name": "python"
  },
  "orig_nbformat": 4
 },
 "nbformat": 4,
 "nbformat_minor": 2
}
